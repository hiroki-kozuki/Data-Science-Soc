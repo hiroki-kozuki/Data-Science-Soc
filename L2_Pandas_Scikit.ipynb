{
  "cells": [
    {
      "cell_type": "markdown",
      "metadata": {
        "id": "hkBoLQuUaYLb"
      },
      "source": [
        "<img src=\"https://github.com/Imperial-College-Data-Science-Society/Lecture-series-2022-23/blob/main/L2/img/logo.png?raw=1\" alt=\"drawing\" width=\"600\"/>\n",
        "\n",
        "# Lecture 2: Predicting House Prices: Practical Tabular Data Processing and Machine Learning\n",
        "Pandas and Scikit-learn\n",
        "\n",
        "Date: 1 November 2022\n",
        "\n",
        "\n",
        "\n",
        "Contributors: Kenton Kwok (2022), Lorenzo Versini (2021), Harrison Zhu (2020) @ Imperial College Data Science Society\n",
        "\n",
        "This notebook is mostly based on Hands on Machine Learning by Geron.\n",
        "\n",
        "## Content\n",
        "* Introduction to the Pandas library   \n",
        "  * Displaying data and its summary information\n",
        "  * Filtering\n",
        "* Introduction to more Scikit-learn capabilities\n",
        "  * Train/test split\n",
        "  * Scikit-learn pipeline\n",
        "  * data cleaning, dropping NAs\n",
        "  * standard scaler\n",
        "* Simple Machine Learning models as a black box\n",
        "  \n",
        "### Prerequisities\n",
        "* Familiarity with basic Python data structures (lists, dictionaries)\n",
        "  \n",
        "### Skills you will learn\n",
        "* How to read package documentation online and use it\n",
        "* General exploratory data analysis of tabular datasets\n",
        "* The general machine learning pipeline"
      ]
    },
    {
      "cell_type": "markdown",
      "metadata": {
        "id": "1cbQHUjKaYLi"
      },
      "source": [
        "[![Open In Colab](https://colab.research.google.com/assets/colab-badge.svg)](https://colab.research.google.com/github/Imperial-College-Data-Science-Society/Lecture-series-2022-23/blob/main/L2/l2-pandas-scikit.ipynb)"
      ]
    },
    {
      "cell_type": "markdown",
      "metadata": {
        "id": "LtM_HwvCaYLj"
      },
      "source": [
        "When you start a data science project, you don't typically start with the model-- you start with the data. In this tutorial, we look at how **tabular** data is typically processed by data scientists, and then we move on to applying skills we learnt last time towards processing a dataset for a prediction task."
      ]
    },
    {
      "cell_type": "markdown",
      "metadata": {
        "id": "00I64rwRaYLk"
      },
      "source": [
        "# 1. Pandas for Data Preprocessing\n",
        "\n",
        "<div>\n",
        "<img src=\"https://upload.wikimedia.org/wikipedia/commons/thumb/e/ed/Pandas_logo.svg/1200px-Pandas_logo.svg.png\" width=\"200\"/>\n",
        "</div>\n",
        "\n",
        "\n",
        "pandas is a fast, powerful, flexible and easy to use open source data analysis and manipulation tool,\n",
        "built on top of the Python programming language.\n",
        "\n",
        "## Why is Pandas useful?\n",
        "We use Pandas for Data\n",
        "1. Loading: transferring data from wherever it is stored to where it can be used by Python\n",
        "2. Manipulation/ Wrangling: refers to a variety of processes designed to transform raw data into more readily used formats (similar what people do with SQL)\n",
        "3. Cleaning: the process of detecting and correcting (or removing) corrupt or inaccurate records from a record set, table, or database and refers to identifying incomplete, incorrect, inaccurate or irrelevant parts of the data and then replacing, modifying, or deleting the dirty or coarse data\n",
        "\n",
        "This prepares our data before further transformations.\n",
        "<div>\n",
        "<img src=\"https://pandas.pydata.org/docs/_images/02_io_readwrite.svg\" width=\"500\"/>\n",
        "</div>\n",
        "\n",
        "As with most libraries in Python, Pandas is really well documented and accessible. We will introduce how the library functions."
      ]
    },
    {
      "cell_type": "markdown",
      "metadata": {
        "id": "pDEJZul7aYLk"
      },
      "source": [
        "## What are Series?\n",
        "* Series are one dimensional array-like object which have and index.\n",
        "* Typically used to represent data across time or any value with respect to another value.\n",
        "\n",
        "Here, we are creating a series manually, using lists.\n"
      ]
    },
    {
      "cell_type": "code",
      "execution_count": null,
      "metadata": {
        "id": "zXXyOqsPaYLl",
        "outputId": "12a2d676-7b76-4c53-ea48-24847451130c",
        "colab": {
          "base_uri": "https://localhost:8080/"
        }
      },
      "outputs": [
        {
          "output_type": "stream",
          "name": "stdout",
          "text": [
            "0     12\n",
            "1    312\n",
            "2     56\n",
            "3     32\n",
            "4     34\n",
            "dtype: int64\n",
            "\n",
            "56\n"
          ]
        }
      ],
      "source": [
        "import pandas as pd\n",
        "\n",
        "s = pd.Series([12, 312, 56, 32, 34], index=[0, 1, 2, 3, 4])\n",
        "print(s)\n",
        "print(\"\")\n",
        "print(s[2])"
      ]
    },
    {
      "cell_type": "markdown",
      "metadata": {
        "id": "sFCDxu4yaYLo"
      },
      "source": [
        "## What are DataFrames?\n",
        "* DataFrames are like tables.\n",
        "* They are two dimensional data structures with an index and columns.\n",
        "\n",
        "Here, we are creating a DataFrame using a dictionary object."
      ]
    },
    {
      "cell_type": "code",
      "execution_count": null,
      "metadata": {
        "id": "Irn9osP-aYLp",
        "outputId": "a18a371c-d7d8-4e52-b0c2-2667267bbd71",
        "colab": {
          "base_uri": "https://localhost:8080/"
        }
      },
      "outputs": [
        {
          "output_type": "stream",
          "name": "stdout",
          "text": [
            "   col1  col2\n",
            "0     1     3\n",
            "1     2     4\n"
          ]
        }
      ],
      "source": [
        "df = pd.DataFrame(\n",
        "    {\n",
        "        'col1': [1, 2],\n",
        "        'col2': [3, 4]\n",
        "    }\n",
        ")\n",
        "\n",
        "print(df)"
      ]
    },
    {
      "cell_type": "markdown",
      "metadata": {
        "id": "w6IuQQhbaYLp"
      },
      "source": [
        "You can select a column as such."
      ]
    },
    {
      "cell_type": "code",
      "execution_count": null,
      "metadata": {
        "id": "TBuZp_QhaYLq",
        "outputId": "3d335d72-1ddf-4c67-b592-0b30fc85760d",
        "colab": {
          "base_uri": "https://localhost:8080/"
        }
      },
      "outputs": [
        {
          "output_type": "execute_result",
          "data": {
            "text/plain": [
              "0    3\n",
              "1    4\n",
              "Name: col2, dtype: int64"
            ]
          },
          "metadata": {},
          "execution_count": 10
        }
      ],
      "source": [
        "df['col2']"
      ]
    },
    {
      "cell_type": "markdown",
      "metadata": {
        "id": "RpViK3zjaYLq"
      },
      "source": [
        "**Question**: This sounds like Excel/ Google Sheets, what makes it special and why do we need to learn it?"
      ]
    },
    {
      "cell_type": "code",
      "execution_count": null,
      "metadata": {
        "id": "t65pVHItaYLr"
      },
      "outputs": [],
      "source": [
        "# Answer here"
      ]
    },
    {
      "cell_type": "markdown",
      "metadata": {
        "id": "FL9q8HUnaYLs"
      },
      "source": [
        "Now we deal with a real dataset."
      ]
    },
    {
      "cell_type": "code",
      "execution_count": null,
      "metadata": {
        "id": "Hi9CnzdjaYLs"
      },
      "outputs": [],
      "source": [
        "# Python ≥3.5 is required\n",
        "import sys\n",
        "assert sys.version_info >= (3, 5)\n",
        "\n",
        "# Scikit-Learn ≥0.20 is required\n",
        "import sklearn\n",
        "assert sklearn.__version__ >= \"0.20\"\n",
        "\n",
        "import matplotlib as mpl\n",
        "import matplotlib.pyplot as plt\n",
        "import numpy as np\n",
        "import os"
      ]
    },
    {
      "cell_type": "code",
      "execution_count": null,
      "metadata": {
        "id": "avAvWK8MaYLt"
      },
      "outputs": [],
      "source": [
        "mpl.rc('axes', labelsize=14)\n",
        "mpl.rc('xtick', labelsize=12)\n",
        "mpl.rc('ytick', labelsize=12)\n",
        "\n",
        "# Where to save the figures\n",
        "PROJECT_ROOT_DIR = \".\"\n",
        "CHAPTER_ID = \"end_to_end_project\"\n",
        "IMAGES_PATH = os.path.join(PROJECT_ROOT_DIR, \"images\", CHAPTER_ID)\n",
        "os.makedirs(IMAGES_PATH, exist_ok=True)\n",
        "\n",
        "def save_fig(fig_id, tight_layout=True, fig_extension=\"png\", resolution=300):\n",
        "    path = os.path.join(IMAGES_PATH, fig_id + \".\" + fig_extension)\n",
        "    print(\"Saving figure\", fig_id)\n",
        "    if tight_layout:\n",
        "        plt.tight_layout()\n",
        "    plt.savefig(path, format=fig_extension, dpi=resolution)"
      ]
    },
    {
      "cell_type": "code",
      "execution_count": null,
      "metadata": {
        "id": "3226GnkyaYLu"
      },
      "outputs": [],
      "source": [
        "import os\n",
        "import tarfile\n",
        "import urllib.request\n",
        "\n",
        "DOWNLOAD_ROOT = \"https://raw.githubusercontent.com/ageron/handson-ml2/master/\"\n",
        "HOUSING_PATH = os.path.join(\"datasets\", \"housing\")\n",
        "HOUSING_URL = DOWNLOAD_ROOT + \"datasets/housing/housing.tgz\"\n",
        "\n",
        "def fetch_housing_data(housing_url=HOUSING_URL, housing_path=HOUSING_PATH):\n",
        "    if not os.path.isdir(housing_path):\n",
        "        os.makedirs(housing_path)\n",
        "    tgz_path = os.path.join(housing_path, \"housing.tgz\")\n",
        "    urllib.request.urlretrieve(housing_url, tgz_path)\n",
        "    housing_tgz = tarfile.open(tgz_path)\n",
        "    housing_tgz.extractall(path=housing_path)\n",
        "    housing_tgz.close()"
      ]
    },
    {
      "cell_type": "code",
      "execution_count": null,
      "metadata": {
        "id": "V5LpIgLjaYLv"
      },
      "outputs": [],
      "source": [
        "fetch_housing_data()"
      ]
    },
    {
      "cell_type": "code",
      "execution_count": null,
      "metadata": {
        "id": "SuymhJStaYLv"
      },
      "outputs": [],
      "source": [
        "import pandas as pd\n",
        "\n",
        "def load_housing_data(housing_path=HOUSING_PATH):\n",
        "    csv_path = os.path.join(housing_path, \"housing.csv\")\n",
        "    return pd.read_csv(csv_path)"
      ]
    },
    {
      "cell_type": "markdown",
      "metadata": {
        "id": "ovzPOwSlaYLv"
      },
      "source": [
        "## Exploring the data\n",
        "After loading the data, we'd like to visualise the dataset by displaying it. It usually isn't feasible to print out the entire DataFrame because it is too large. Instead, we use commands from pandas.\n",
        "\n",
        "The `head` method displays the top 5 rows of the DataFrame."
      ]
    },
    {
      "cell_type": "code",
      "execution_count": null,
      "metadata": {
        "id": "d-xujTruaYLv",
        "outputId": "e1a2059d-dd82-450a-ae2d-cb2b854f7367",
        "colab": {
          "base_uri": "https://localhost:8080/",
          "height": 250
        }
      },
      "outputs": [
        {
          "output_type": "execute_result",
          "data": {
            "text/plain": [
              "   longitude  latitude  housing_median_age  total_rooms  total_bedrooms  \\\n",
              "0    -122.23     37.88                41.0        880.0           129.0   \n",
              "1    -122.22     37.86                21.0       7099.0          1106.0   \n",
              "2    -122.24     37.85                52.0       1467.0           190.0   \n",
              "3    -122.25     37.85                52.0       1274.0           235.0   \n",
              "4    -122.25     37.85                52.0       1627.0           280.0   \n",
              "\n",
              "   population  households  median_income  median_house_value ocean_proximity  \n",
              "0       322.0       126.0         8.3252            452600.0        NEAR BAY  \n",
              "1      2401.0      1138.0         8.3014            358500.0        NEAR BAY  \n",
              "2       496.0       177.0         7.2574            352100.0        NEAR BAY  \n",
              "3       558.0       219.0         5.6431            341300.0        NEAR BAY  \n",
              "4       565.0       259.0         3.8462            342200.0        NEAR BAY  "
            ],
            "text/html": [
              "\n",
              "  <div id=\"df-ff873175-3cf2-4741-b9a6-c0fb8c6170c4\">\n",
              "    <div class=\"colab-df-container\">\n",
              "      <div>\n",
              "<style scoped>\n",
              "    .dataframe tbody tr th:only-of-type {\n",
              "        vertical-align: middle;\n",
              "    }\n",
              "\n",
              "    .dataframe tbody tr th {\n",
              "        vertical-align: top;\n",
              "    }\n",
              "\n",
              "    .dataframe thead th {\n",
              "        text-align: right;\n",
              "    }\n",
              "</style>\n",
              "<table border=\"1\" class=\"dataframe\">\n",
              "  <thead>\n",
              "    <tr style=\"text-align: right;\">\n",
              "      <th></th>\n",
              "      <th>longitude</th>\n",
              "      <th>latitude</th>\n",
              "      <th>housing_median_age</th>\n",
              "      <th>total_rooms</th>\n",
              "      <th>total_bedrooms</th>\n",
              "      <th>population</th>\n",
              "      <th>households</th>\n",
              "      <th>median_income</th>\n",
              "      <th>median_house_value</th>\n",
              "      <th>ocean_proximity</th>\n",
              "    </tr>\n",
              "  </thead>\n",
              "  <tbody>\n",
              "    <tr>\n",
              "      <th>0</th>\n",
              "      <td>-122.23</td>\n",
              "      <td>37.88</td>\n",
              "      <td>41.0</td>\n",
              "      <td>880.0</td>\n",
              "      <td>129.0</td>\n",
              "      <td>322.0</td>\n",
              "      <td>126.0</td>\n",
              "      <td>8.3252</td>\n",
              "      <td>452600.0</td>\n",
              "      <td>NEAR BAY</td>\n",
              "    </tr>\n",
              "    <tr>\n",
              "      <th>1</th>\n",
              "      <td>-122.22</td>\n",
              "      <td>37.86</td>\n",
              "      <td>21.0</td>\n",
              "      <td>7099.0</td>\n",
              "      <td>1106.0</td>\n",
              "      <td>2401.0</td>\n",
              "      <td>1138.0</td>\n",
              "      <td>8.3014</td>\n",
              "      <td>358500.0</td>\n",
              "      <td>NEAR BAY</td>\n",
              "    </tr>\n",
              "    <tr>\n",
              "      <th>2</th>\n",
              "      <td>-122.24</td>\n",
              "      <td>37.85</td>\n",
              "      <td>52.0</td>\n",
              "      <td>1467.0</td>\n",
              "      <td>190.0</td>\n",
              "      <td>496.0</td>\n",
              "      <td>177.0</td>\n",
              "      <td>7.2574</td>\n",
              "      <td>352100.0</td>\n",
              "      <td>NEAR BAY</td>\n",
              "    </tr>\n",
              "    <tr>\n",
              "      <th>3</th>\n",
              "      <td>-122.25</td>\n",
              "      <td>37.85</td>\n",
              "      <td>52.0</td>\n",
              "      <td>1274.0</td>\n",
              "      <td>235.0</td>\n",
              "      <td>558.0</td>\n",
              "      <td>219.0</td>\n",
              "      <td>5.6431</td>\n",
              "      <td>341300.0</td>\n",
              "      <td>NEAR BAY</td>\n",
              "    </tr>\n",
              "    <tr>\n",
              "      <th>4</th>\n",
              "      <td>-122.25</td>\n",
              "      <td>37.85</td>\n",
              "      <td>52.0</td>\n",
              "      <td>1627.0</td>\n",
              "      <td>280.0</td>\n",
              "      <td>565.0</td>\n",
              "      <td>259.0</td>\n",
              "      <td>3.8462</td>\n",
              "      <td>342200.0</td>\n",
              "      <td>NEAR BAY</td>\n",
              "    </tr>\n",
              "  </tbody>\n",
              "</table>\n",
              "</div>\n",
              "      <button class=\"colab-df-convert\" onclick=\"convertToInteractive('df-ff873175-3cf2-4741-b9a6-c0fb8c6170c4')\"\n",
              "              title=\"Convert this dataframe to an interactive table.\"\n",
              "              style=\"display:none;\">\n",
              "        \n",
              "  <svg xmlns=\"http://www.w3.org/2000/svg\" height=\"24px\"viewBox=\"0 0 24 24\"\n",
              "       width=\"24px\">\n",
              "    <path d=\"M0 0h24v24H0V0z\" fill=\"none\"/>\n",
              "    <path d=\"M18.56 5.44l.94 2.06.94-2.06 2.06-.94-2.06-.94-.94-2.06-.94 2.06-2.06.94zm-11 1L8.5 8.5l.94-2.06 2.06-.94-2.06-.94L8.5 2.5l-.94 2.06-2.06.94zm10 10l.94 2.06.94-2.06 2.06-.94-2.06-.94-.94-2.06-.94 2.06-2.06.94z\"/><path d=\"M17.41 7.96l-1.37-1.37c-.4-.4-.92-.59-1.43-.59-.52 0-1.04.2-1.43.59L10.3 9.45l-7.72 7.72c-.78.78-.78 2.05 0 2.83L4 21.41c.39.39.9.59 1.41.59.51 0 1.02-.2 1.41-.59l7.78-7.78 2.81-2.81c.8-.78.8-2.07 0-2.86zM5.41 20L4 18.59l7.72-7.72 1.47 1.35L5.41 20z\"/>\n",
              "  </svg>\n",
              "      </button>\n",
              "      \n",
              "  <style>\n",
              "    .colab-df-container {\n",
              "      display:flex;\n",
              "      flex-wrap:wrap;\n",
              "      gap: 12px;\n",
              "    }\n",
              "\n",
              "    .colab-df-convert {\n",
              "      background-color: #E8F0FE;\n",
              "      border: none;\n",
              "      border-radius: 50%;\n",
              "      cursor: pointer;\n",
              "      display: none;\n",
              "      fill: #1967D2;\n",
              "      height: 32px;\n",
              "      padding: 0 0 0 0;\n",
              "      width: 32px;\n",
              "    }\n",
              "\n",
              "    .colab-df-convert:hover {\n",
              "      background-color: #E2EBFA;\n",
              "      box-shadow: 0px 1px 2px rgba(60, 64, 67, 0.3), 0px 1px 3px 1px rgba(60, 64, 67, 0.15);\n",
              "      fill: #174EA6;\n",
              "    }\n",
              "\n",
              "    [theme=dark] .colab-df-convert {\n",
              "      background-color: #3B4455;\n",
              "      fill: #D2E3FC;\n",
              "    }\n",
              "\n",
              "    [theme=dark] .colab-df-convert:hover {\n",
              "      background-color: #434B5C;\n",
              "      box-shadow: 0px 1px 3px 1px rgba(0, 0, 0, 0.15);\n",
              "      filter: drop-shadow(0px 1px 2px rgba(0, 0, 0, 0.3));\n",
              "      fill: #FFFFFF;\n",
              "    }\n",
              "  </style>\n",
              "\n",
              "      <script>\n",
              "        const buttonEl =\n",
              "          document.querySelector('#df-ff873175-3cf2-4741-b9a6-c0fb8c6170c4 button.colab-df-convert');\n",
              "        buttonEl.style.display =\n",
              "          google.colab.kernel.accessAllowed ? 'block' : 'none';\n",
              "\n",
              "        async function convertToInteractive(key) {\n",
              "          const element = document.querySelector('#df-ff873175-3cf2-4741-b9a6-c0fb8c6170c4');\n",
              "          const dataTable =\n",
              "            await google.colab.kernel.invokeFunction('convertToInteractive',\n",
              "                                                     [key], {});\n",
              "          if (!dataTable) return;\n",
              "\n",
              "          const docLinkHtml = 'Like what you see? Visit the ' +\n",
              "            '<a target=\"_blank\" href=https://colab.research.google.com/notebooks/data_table.ipynb>data table notebook</a>'\n",
              "            + ' to learn more about interactive tables.';\n",
              "          element.innerHTML = '';\n",
              "          dataTable['output_type'] = 'display_data';\n",
              "          await google.colab.output.renderOutput(dataTable, element);\n",
              "          const docLink = document.createElement('div');\n",
              "          docLink.innerHTML = docLinkHtml;\n",
              "          element.appendChild(docLink);\n",
              "        }\n",
              "      </script>\n",
              "    </div>\n",
              "  </div>\n",
              "  "
            ]
          },
          "metadata": {},
          "execution_count": 12
        }
      ],
      "source": [
        "data = load_housing_data()\n",
        "data.head()"
      ]
    },
    {
      "cell_type": "markdown",
      "metadata": {
        "id": "4pNWU1m-aYLw"
      },
      "source": [
        "**Q**: Look through the documentation to find the command for printing the bottom rows of the DataFrame. How can you modify the command to print more rows?"
      ]
    },
    {
      "cell_type": "code",
      "execution_count": null,
      "metadata": {
        "id": "mSft8IZeaYLw"
      },
      "outputs": [],
      "source": [
        "# Answer here"
      ]
    },
    {
      "cell_type": "markdown",
      "metadata": {
        "id": "-oyEmKmEaYLw"
      },
      "source": [
        "Exploring the dataset is a must when dealing with any dataset.\n",
        "* Quite a useful thing to understand is what are the categorical variables/ numerical variables?\n",
        "* What are the distributions?\n",
        "\n",
        "**Q**: What information do the functions `info` and `describe` give?"
      ]
    },
    {
      "cell_type": "code",
      "execution_count": null,
      "metadata": {
        "id": "LxrW_e0TaYLx"
      },
      "outputs": [],
      "source": [
        "# Answer here"
      ]
    },
    {
      "cell_type": "code",
      "execution_count": null,
      "metadata": {
        "id": "IcULJ_PIaYLx",
        "outputId": "d81afacc-babb-4651-9744-a45c9d1fbf57",
        "colab": {
          "base_uri": "https://localhost:8080/",
          "height": 300
        }
      },
      "outputs": [
        {
          "output_type": "execute_result",
          "data": {
            "text/plain": [
              "          longitude      latitude  housing_median_age   total_rooms  \\\n",
              "count  20640.000000  20640.000000        20640.000000  20640.000000   \n",
              "mean    -119.569704     35.631861           28.639486   2635.763081   \n",
              "std        2.003532      2.135952           12.585558   2181.615252   \n",
              "min     -124.350000     32.540000            1.000000      2.000000   \n",
              "25%     -121.800000     33.930000           18.000000   1447.750000   \n",
              "50%     -118.490000     34.260000           29.000000   2127.000000   \n",
              "75%     -118.010000     37.710000           37.000000   3148.000000   \n",
              "max     -114.310000     41.950000           52.000000  39320.000000   \n",
              "\n",
              "       total_bedrooms    population    households  median_income  \\\n",
              "count    20433.000000  20640.000000  20640.000000   20640.000000   \n",
              "mean       537.870553   1425.476744    499.539680       3.870671   \n",
              "std        421.385070   1132.462122    382.329753       1.899822   \n",
              "min          1.000000      3.000000      1.000000       0.499900   \n",
              "25%        296.000000    787.000000    280.000000       2.563400   \n",
              "50%        435.000000   1166.000000    409.000000       3.534800   \n",
              "75%        647.000000   1725.000000    605.000000       4.743250   \n",
              "max       6445.000000  35682.000000   6082.000000      15.000100   \n",
              "\n",
              "       median_house_value  \n",
              "count        20640.000000  \n",
              "mean        206855.816909  \n",
              "std         115395.615874  \n",
              "min          14999.000000  \n",
              "25%         119600.000000  \n",
              "50%         179700.000000  \n",
              "75%         264725.000000  \n",
              "max         500001.000000  "
            ],
            "text/html": [
              "\n",
              "  <div id=\"df-08593bd5-1ac6-4b97-bbfb-b0dd2a35ecc2\">\n",
              "    <div class=\"colab-df-container\">\n",
              "      <div>\n",
              "<style scoped>\n",
              "    .dataframe tbody tr th:only-of-type {\n",
              "        vertical-align: middle;\n",
              "    }\n",
              "\n",
              "    .dataframe tbody tr th {\n",
              "        vertical-align: top;\n",
              "    }\n",
              "\n",
              "    .dataframe thead th {\n",
              "        text-align: right;\n",
              "    }\n",
              "</style>\n",
              "<table border=\"1\" class=\"dataframe\">\n",
              "  <thead>\n",
              "    <tr style=\"text-align: right;\">\n",
              "      <th></th>\n",
              "      <th>longitude</th>\n",
              "      <th>latitude</th>\n",
              "      <th>housing_median_age</th>\n",
              "      <th>total_rooms</th>\n",
              "      <th>total_bedrooms</th>\n",
              "      <th>population</th>\n",
              "      <th>households</th>\n",
              "      <th>median_income</th>\n",
              "      <th>median_house_value</th>\n",
              "    </tr>\n",
              "  </thead>\n",
              "  <tbody>\n",
              "    <tr>\n",
              "      <th>count</th>\n",
              "      <td>20640.000000</td>\n",
              "      <td>20640.000000</td>\n",
              "      <td>20640.000000</td>\n",
              "      <td>20640.000000</td>\n",
              "      <td>20433.000000</td>\n",
              "      <td>20640.000000</td>\n",
              "      <td>20640.000000</td>\n",
              "      <td>20640.000000</td>\n",
              "      <td>20640.000000</td>\n",
              "    </tr>\n",
              "    <tr>\n",
              "      <th>mean</th>\n",
              "      <td>-119.569704</td>\n",
              "      <td>35.631861</td>\n",
              "      <td>28.639486</td>\n",
              "      <td>2635.763081</td>\n",
              "      <td>537.870553</td>\n",
              "      <td>1425.476744</td>\n",
              "      <td>499.539680</td>\n",
              "      <td>3.870671</td>\n",
              "      <td>206855.816909</td>\n",
              "    </tr>\n",
              "    <tr>\n",
              "      <th>std</th>\n",
              "      <td>2.003532</td>\n",
              "      <td>2.135952</td>\n",
              "      <td>12.585558</td>\n",
              "      <td>2181.615252</td>\n",
              "      <td>421.385070</td>\n",
              "      <td>1132.462122</td>\n",
              "      <td>382.329753</td>\n",
              "      <td>1.899822</td>\n",
              "      <td>115395.615874</td>\n",
              "    </tr>\n",
              "    <tr>\n",
              "      <th>min</th>\n",
              "      <td>-124.350000</td>\n",
              "      <td>32.540000</td>\n",
              "      <td>1.000000</td>\n",
              "      <td>2.000000</td>\n",
              "      <td>1.000000</td>\n",
              "      <td>3.000000</td>\n",
              "      <td>1.000000</td>\n",
              "      <td>0.499900</td>\n",
              "      <td>14999.000000</td>\n",
              "    </tr>\n",
              "    <tr>\n",
              "      <th>25%</th>\n",
              "      <td>-121.800000</td>\n",
              "      <td>33.930000</td>\n",
              "      <td>18.000000</td>\n",
              "      <td>1447.750000</td>\n",
              "      <td>296.000000</td>\n",
              "      <td>787.000000</td>\n",
              "      <td>280.000000</td>\n",
              "      <td>2.563400</td>\n",
              "      <td>119600.000000</td>\n",
              "    </tr>\n",
              "    <tr>\n",
              "      <th>50%</th>\n",
              "      <td>-118.490000</td>\n",
              "      <td>34.260000</td>\n",
              "      <td>29.000000</td>\n",
              "      <td>2127.000000</td>\n",
              "      <td>435.000000</td>\n",
              "      <td>1166.000000</td>\n",
              "      <td>409.000000</td>\n",
              "      <td>3.534800</td>\n",
              "      <td>179700.000000</td>\n",
              "    </tr>\n",
              "    <tr>\n",
              "      <th>75%</th>\n",
              "      <td>-118.010000</td>\n",
              "      <td>37.710000</td>\n",
              "      <td>37.000000</td>\n",
              "      <td>3148.000000</td>\n",
              "      <td>647.000000</td>\n",
              "      <td>1725.000000</td>\n",
              "      <td>605.000000</td>\n",
              "      <td>4.743250</td>\n",
              "      <td>264725.000000</td>\n",
              "    </tr>\n",
              "    <tr>\n",
              "      <th>max</th>\n",
              "      <td>-114.310000</td>\n",
              "      <td>41.950000</td>\n",
              "      <td>52.000000</td>\n",
              "      <td>39320.000000</td>\n",
              "      <td>6445.000000</td>\n",
              "      <td>35682.000000</td>\n",
              "      <td>6082.000000</td>\n",
              "      <td>15.000100</td>\n",
              "      <td>500001.000000</td>\n",
              "    </tr>\n",
              "  </tbody>\n",
              "</table>\n",
              "</div>\n",
              "      <button class=\"colab-df-convert\" onclick=\"convertToInteractive('df-08593bd5-1ac6-4b97-bbfb-b0dd2a35ecc2')\"\n",
              "              title=\"Convert this dataframe to an interactive table.\"\n",
              "              style=\"display:none;\">\n",
              "        \n",
              "  <svg xmlns=\"http://www.w3.org/2000/svg\" height=\"24px\"viewBox=\"0 0 24 24\"\n",
              "       width=\"24px\">\n",
              "    <path d=\"M0 0h24v24H0V0z\" fill=\"none\"/>\n",
              "    <path d=\"M18.56 5.44l.94 2.06.94-2.06 2.06-.94-2.06-.94-.94-2.06-.94 2.06-2.06.94zm-11 1L8.5 8.5l.94-2.06 2.06-.94-2.06-.94L8.5 2.5l-.94 2.06-2.06.94zm10 10l.94 2.06.94-2.06 2.06-.94-2.06-.94-.94-2.06-.94 2.06-2.06.94z\"/><path d=\"M17.41 7.96l-1.37-1.37c-.4-.4-.92-.59-1.43-.59-.52 0-1.04.2-1.43.59L10.3 9.45l-7.72 7.72c-.78.78-.78 2.05 0 2.83L4 21.41c.39.39.9.59 1.41.59.51 0 1.02-.2 1.41-.59l7.78-7.78 2.81-2.81c.8-.78.8-2.07 0-2.86zM5.41 20L4 18.59l7.72-7.72 1.47 1.35L5.41 20z\"/>\n",
              "  </svg>\n",
              "      </button>\n",
              "      \n",
              "  <style>\n",
              "    .colab-df-container {\n",
              "      display:flex;\n",
              "      flex-wrap:wrap;\n",
              "      gap: 12px;\n",
              "    }\n",
              "\n",
              "    .colab-df-convert {\n",
              "      background-color: #E8F0FE;\n",
              "      border: none;\n",
              "      border-radius: 50%;\n",
              "      cursor: pointer;\n",
              "      display: none;\n",
              "      fill: #1967D2;\n",
              "      height: 32px;\n",
              "      padding: 0 0 0 0;\n",
              "      width: 32px;\n",
              "    }\n",
              "\n",
              "    .colab-df-convert:hover {\n",
              "      background-color: #E2EBFA;\n",
              "      box-shadow: 0px 1px 2px rgba(60, 64, 67, 0.3), 0px 1px 3px 1px rgba(60, 64, 67, 0.15);\n",
              "      fill: #174EA6;\n",
              "    }\n",
              "\n",
              "    [theme=dark] .colab-df-convert {\n",
              "      background-color: #3B4455;\n",
              "      fill: #D2E3FC;\n",
              "    }\n",
              "\n",
              "    [theme=dark] .colab-df-convert:hover {\n",
              "      background-color: #434B5C;\n",
              "      box-shadow: 0px 1px 3px 1px rgba(0, 0, 0, 0.15);\n",
              "      filter: drop-shadow(0px 1px 2px rgba(0, 0, 0, 0.3));\n",
              "      fill: #FFFFFF;\n",
              "    }\n",
              "  </style>\n",
              "\n",
              "      <script>\n",
              "        const buttonEl =\n",
              "          document.querySelector('#df-08593bd5-1ac6-4b97-bbfb-b0dd2a35ecc2 button.colab-df-convert');\n",
              "        buttonEl.style.display =\n",
              "          google.colab.kernel.accessAllowed ? 'block' : 'none';\n",
              "\n",
              "        async function convertToInteractive(key) {\n",
              "          const element = document.querySelector('#df-08593bd5-1ac6-4b97-bbfb-b0dd2a35ecc2');\n",
              "          const dataTable =\n",
              "            await google.colab.kernel.invokeFunction('convertToInteractive',\n",
              "                                                     [key], {});\n",
              "          if (!dataTable) return;\n",
              "\n",
              "          const docLinkHtml = 'Like what you see? Visit the ' +\n",
              "            '<a target=\"_blank\" href=https://colab.research.google.com/notebooks/data_table.ipynb>data table notebook</a>'\n",
              "            + ' to learn more about interactive tables.';\n",
              "          element.innerHTML = '';\n",
              "          dataTable['output_type'] = 'display_data';\n",
              "          await google.colab.output.renderOutput(dataTable, element);\n",
              "          const docLink = document.createElement('div');\n",
              "          docLink.innerHTML = docLinkHtml;\n",
              "          element.appendChild(docLink);\n",
              "        }\n",
              "      </script>\n",
              "    </div>\n",
              "  </div>\n",
              "  "
            ]
          },
          "metadata": {},
          "execution_count": 15
        }
      ],
      "source": [
        "data.describe()"
      ]
    },
    {
      "cell_type": "code",
      "execution_count": null,
      "metadata": {
        "id": "HDkqRiyMaYLx",
        "outputId": "a34b7679-bd1b-43c4-ff4c-8f8b77970eab",
        "colab": {
          "base_uri": "https://localhost:8080/"
        }
      },
      "outputs": [
        {
          "output_type": "stream",
          "name": "stdout",
          "text": [
            "<class 'pandas.core.frame.DataFrame'>\n",
            "RangeIndex: 20640 entries, 0 to 20639\n",
            "Data columns (total 10 columns):\n",
            " #   Column              Non-Null Count  Dtype  \n",
            "---  ------              --------------  -----  \n",
            " 0   longitude           20640 non-null  float64\n",
            " 1   latitude            20640 non-null  float64\n",
            " 2   housing_median_age  20640 non-null  float64\n",
            " 3   total_rooms         20640 non-null  float64\n",
            " 4   total_bedrooms      20433 non-null  float64\n",
            " 5   population          20640 non-null  float64\n",
            " 6   households          20640 non-null  float64\n",
            " 7   median_income       20640 non-null  float64\n",
            " 8   median_house_value  20640 non-null  float64\n",
            " 9   ocean_proximity     20640 non-null  object \n",
            "dtypes: float64(9), object(1)\n",
            "memory usage: 1.6+ MB\n"
          ]
        }
      ],
      "source": [
        "data.info()"
      ]
    },
    {
      "cell_type": "markdown",
      "metadata": {
        "id": "fuCyyUWKaYLx"
      },
      "source": [
        "## Pandas skill: Dealing with rows and columns\n",
        "\n",
        "We can select a particular row by using the functions `iloc` and `loc`. \n",
        "\n",
        "**Q**: Can you see what the difference is?"
      ]
    },
    {
      "cell_type": "code",
      "execution_count": null,
      "metadata": {
        "id": "qquHGi0ZaYLx",
        "outputId": "f0bc6367-25e7-4ab5-f4e2-e6c4cad9ce69",
        "colab": {
          "base_uri": "https://localhost:8080/"
        }
      },
      "outputs": [
        {
          "output_type": "execute_result",
          "data": {
            "text/plain": [
              "longitude              -122.28\n",
              "latitude                 37.84\n",
              "housing_median_age        49.0\n",
              "total_rooms             1916.0\n",
              "total_bedrooms           447.0\n",
              "population               863.0\n",
              "households               378.0\n",
              "median_income           1.9274\n",
              "median_house_value    122300.0\n",
              "ocean_proximity       NEAR BAY\n",
              "Name: 30, dtype: object"
            ]
          },
          "metadata": {},
          "execution_count": 17
        }
      ],
      "source": [
        "data.iloc[30]"
      ]
    },
    {
      "cell_type": "markdown",
      "metadata": {
        "id": "NeVInibkaYLy"
      },
      "source": [
        "This selects by the 'key,' in this case the key and the rows are the same, so there is no difference/"
      ]
    },
    {
      "cell_type": "code",
      "execution_count": null,
      "metadata": {
        "id": "0t5H4ikNaYLy",
        "outputId": "3b8e29ed-13ea-4a9c-ef2c-f02da6fa1f7f",
        "colab": {
          "base_uri": "https://localhost:8080/"
        }
      },
      "outputs": [
        {
          "output_type": "execute_result",
          "data": {
            "text/plain": [
              "longitude              -122.28\n",
              "latitude                 37.84\n",
              "housing_median_age        49.0\n",
              "total_rooms             1916.0\n",
              "total_bedrooms           447.0\n",
              "population               863.0\n",
              "households               378.0\n",
              "median_income           1.9274\n",
              "median_house_value    122300.0\n",
              "ocean_proximity       NEAR BAY\n",
              "Name: 30, dtype: object"
            ]
          },
          "metadata": {},
          "execution_count": 18
        }
      ],
      "source": [
        "data.loc[30]"
      ]
    },
    {
      "cell_type": "markdown",
      "metadata": {
        "id": "WSPPNJf3aYLy"
      },
      "source": [
        "As shown before, selecting data in columns is done similarly. Note how we query it with a string."
      ]
    },
    {
      "cell_type": "code",
      "execution_count": null,
      "metadata": {
        "id": "gQaijwsCaYLy",
        "outputId": "9b1d86cf-a505-4fa7-f601-075cb6140763",
        "colab": {
          "base_uri": "https://localhost:8080/"
        }
      },
      "outputs": [
        {
          "output_type": "execute_result",
          "data": {
            "text/plain": [
              "0        37.88\n",
              "1        37.86\n",
              "2        37.85\n",
              "3        37.85\n",
              "4        37.85\n",
              "         ...  \n",
              "20635    39.48\n",
              "20636    39.49\n",
              "20637    39.43\n",
              "20638    39.43\n",
              "20639    39.37\n",
              "Name: latitude, Length: 20640, dtype: float64"
            ]
          },
          "metadata": {},
          "execution_count": 19
        }
      ],
      "source": [
        "data['latitude']"
      ]
    },
    {
      "cell_type": "markdown",
      "metadata": {
        "id": "X7qQsvf0aYLy"
      },
      "source": [
        "## Important Pandas skill: Filtering\n",
        "\n",
        "We can filter by using conditionals inside the square brackets."
      ]
    },
    {
      "cell_type": "code",
      "execution_count": null,
      "metadata": {
        "id": "NsBCZ1VHaYLz",
        "outputId": "60a08ebd-5b70-41db-c780-432d57241939",
        "colab": {
          "base_uri": "https://localhost:8080/",
          "height": 488
        }
      },
      "outputs": [
        {
          "output_type": "execute_result",
          "data": {
            "text/plain": [
              "       longitude  latitude  housing_median_age  total_rooms  total_bedrooms  \\\n",
              "926      -121.92     37.47                26.0       2016.0           322.0   \n",
              "927      -121.91     37.47                13.0       5377.0           744.0   \n",
              "1986     -119.81     36.73                51.0        956.0           196.0   \n",
              "1987     -119.81     36.73                47.0       1314.0           416.0   \n",
              "1988     -119.81     36.74                36.0        607.0           155.0   \n",
              "...          ...       ...                 ...          ...             ...   \n",
              "20502    -118.68     34.33                45.0        121.0            25.0   \n",
              "20503    -118.75     34.33                27.0        534.0            85.0   \n",
              "20504    -118.73     34.29                11.0       5451.0           736.0   \n",
              "20505    -118.72     34.29                22.0       3266.0           529.0   \n",
              "20506    -118.73     34.29                 8.0       4983.0           754.0   \n",
              "\n",
              "       population  households  median_income  median_house_value  \\\n",
              "926        1105.0       357.0         6.0878            246900.0   \n",
              "927        2759.0       760.0         6.8680            337300.0   \n",
              "1986        662.0       180.0         2.1010             56700.0   \n",
              "1987       1155.0       326.0         1.3720             49600.0   \n",
              "1988        483.0       146.0         1.5625             47500.0   \n",
              "...           ...         ...            ...                 ...   \n",
              "20502        67.0        27.0         2.9821            325000.0   \n",
              "20503       243.0        77.0         8.2787            330000.0   \n",
              "20504      2526.0       752.0         7.3550            343900.0   \n",
              "20505      1595.0       494.0         6.0368            248000.0   \n",
              "20506      2510.0       725.0         6.9454            276500.0   \n",
              "\n",
              "      ocean_proximity  \n",
              "926         <1H OCEAN  \n",
              "927         <1H OCEAN  \n",
              "1986           INLAND  \n",
              "1987           INLAND  \n",
              "1988           INLAND  \n",
              "...               ...  \n",
              "20502       <1H OCEAN  \n",
              "20503       <1H OCEAN  \n",
              "20504       <1H OCEAN  \n",
              "20505       <1H OCEAN  \n",
              "20506       <1H OCEAN  \n",
              "\n",
              "[14429 rows x 10 columns]"
            ],
            "text/html": [
              "\n",
              "  <div id=\"df-30e820b2-2d6d-413d-8f3f-0cd618cf65e6\">\n",
              "    <div class=\"colab-df-container\">\n",
              "      <div>\n",
              "<style scoped>\n",
              "    .dataframe tbody tr th:only-of-type {\n",
              "        vertical-align: middle;\n",
              "    }\n",
              "\n",
              "    .dataframe tbody tr th {\n",
              "        vertical-align: top;\n",
              "    }\n",
              "\n",
              "    .dataframe thead th {\n",
              "        text-align: right;\n",
              "    }\n",
              "</style>\n",
              "<table border=\"1\" class=\"dataframe\">\n",
              "  <thead>\n",
              "    <tr style=\"text-align: right;\">\n",
              "      <th></th>\n",
              "      <th>longitude</th>\n",
              "      <th>latitude</th>\n",
              "      <th>housing_median_age</th>\n",
              "      <th>total_rooms</th>\n",
              "      <th>total_bedrooms</th>\n",
              "      <th>population</th>\n",
              "      <th>households</th>\n",
              "      <th>median_income</th>\n",
              "      <th>median_house_value</th>\n",
              "      <th>ocean_proximity</th>\n",
              "    </tr>\n",
              "  </thead>\n",
              "  <tbody>\n",
              "    <tr>\n",
              "      <th>926</th>\n",
              "      <td>-121.92</td>\n",
              "      <td>37.47</td>\n",
              "      <td>26.0</td>\n",
              "      <td>2016.0</td>\n",
              "      <td>322.0</td>\n",
              "      <td>1105.0</td>\n",
              "      <td>357.0</td>\n",
              "      <td>6.0878</td>\n",
              "      <td>246900.0</td>\n",
              "      <td>&lt;1H OCEAN</td>\n",
              "    </tr>\n",
              "    <tr>\n",
              "      <th>927</th>\n",
              "      <td>-121.91</td>\n",
              "      <td>37.47</td>\n",
              "      <td>13.0</td>\n",
              "      <td>5377.0</td>\n",
              "      <td>744.0</td>\n",
              "      <td>2759.0</td>\n",
              "      <td>760.0</td>\n",
              "      <td>6.8680</td>\n",
              "      <td>337300.0</td>\n",
              "      <td>&lt;1H OCEAN</td>\n",
              "    </tr>\n",
              "    <tr>\n",
              "      <th>1986</th>\n",
              "      <td>-119.81</td>\n",
              "      <td>36.73</td>\n",
              "      <td>51.0</td>\n",
              "      <td>956.0</td>\n",
              "      <td>196.0</td>\n",
              "      <td>662.0</td>\n",
              "      <td>180.0</td>\n",
              "      <td>2.1010</td>\n",
              "      <td>56700.0</td>\n",
              "      <td>INLAND</td>\n",
              "    </tr>\n",
              "    <tr>\n",
              "      <th>1987</th>\n",
              "      <td>-119.81</td>\n",
              "      <td>36.73</td>\n",
              "      <td>47.0</td>\n",
              "      <td>1314.0</td>\n",
              "      <td>416.0</td>\n",
              "      <td>1155.0</td>\n",
              "      <td>326.0</td>\n",
              "      <td>1.3720</td>\n",
              "      <td>49600.0</td>\n",
              "      <td>INLAND</td>\n",
              "    </tr>\n",
              "    <tr>\n",
              "      <th>1988</th>\n",
              "      <td>-119.81</td>\n",
              "      <td>36.74</td>\n",
              "      <td>36.0</td>\n",
              "      <td>607.0</td>\n",
              "      <td>155.0</td>\n",
              "      <td>483.0</td>\n",
              "      <td>146.0</td>\n",
              "      <td>1.5625</td>\n",
              "      <td>47500.0</td>\n",
              "      <td>INLAND</td>\n",
              "    </tr>\n",
              "    <tr>\n",
              "      <th>...</th>\n",
              "      <td>...</td>\n",
              "      <td>...</td>\n",
              "      <td>...</td>\n",
              "      <td>...</td>\n",
              "      <td>...</td>\n",
              "      <td>...</td>\n",
              "      <td>...</td>\n",
              "      <td>...</td>\n",
              "      <td>...</td>\n",
              "      <td>...</td>\n",
              "    </tr>\n",
              "    <tr>\n",
              "      <th>20502</th>\n",
              "      <td>-118.68</td>\n",
              "      <td>34.33</td>\n",
              "      <td>45.0</td>\n",
              "      <td>121.0</td>\n",
              "      <td>25.0</td>\n",
              "      <td>67.0</td>\n",
              "      <td>27.0</td>\n",
              "      <td>2.9821</td>\n",
              "      <td>325000.0</td>\n",
              "      <td>&lt;1H OCEAN</td>\n",
              "    </tr>\n",
              "    <tr>\n",
              "      <th>20503</th>\n",
              "      <td>-118.75</td>\n",
              "      <td>34.33</td>\n",
              "      <td>27.0</td>\n",
              "      <td>534.0</td>\n",
              "      <td>85.0</td>\n",
              "      <td>243.0</td>\n",
              "      <td>77.0</td>\n",
              "      <td>8.2787</td>\n",
              "      <td>330000.0</td>\n",
              "      <td>&lt;1H OCEAN</td>\n",
              "    </tr>\n",
              "    <tr>\n",
              "      <th>20504</th>\n",
              "      <td>-118.73</td>\n",
              "      <td>34.29</td>\n",
              "      <td>11.0</td>\n",
              "      <td>5451.0</td>\n",
              "      <td>736.0</td>\n",
              "      <td>2526.0</td>\n",
              "      <td>752.0</td>\n",
              "      <td>7.3550</td>\n",
              "      <td>343900.0</td>\n",
              "      <td>&lt;1H OCEAN</td>\n",
              "    </tr>\n",
              "    <tr>\n",
              "      <th>20505</th>\n",
              "      <td>-118.72</td>\n",
              "      <td>34.29</td>\n",
              "      <td>22.0</td>\n",
              "      <td>3266.0</td>\n",
              "      <td>529.0</td>\n",
              "      <td>1595.0</td>\n",
              "      <td>494.0</td>\n",
              "      <td>6.0368</td>\n",
              "      <td>248000.0</td>\n",
              "      <td>&lt;1H OCEAN</td>\n",
              "    </tr>\n",
              "    <tr>\n",
              "      <th>20506</th>\n",
              "      <td>-118.73</td>\n",
              "      <td>34.29</td>\n",
              "      <td>8.0</td>\n",
              "      <td>4983.0</td>\n",
              "      <td>754.0</td>\n",
              "      <td>2510.0</td>\n",
              "      <td>725.0</td>\n",
              "      <td>6.9454</td>\n",
              "      <td>276500.0</td>\n",
              "      <td>&lt;1H OCEAN</td>\n",
              "    </tr>\n",
              "  </tbody>\n",
              "</table>\n",
              "<p>14429 rows × 10 columns</p>\n",
              "</div>\n",
              "      <button class=\"colab-df-convert\" onclick=\"convertToInteractive('df-30e820b2-2d6d-413d-8f3f-0cd618cf65e6')\"\n",
              "              title=\"Convert this dataframe to an interactive table.\"\n",
              "              style=\"display:none;\">\n",
              "        \n",
              "  <svg xmlns=\"http://www.w3.org/2000/svg\" height=\"24px\"viewBox=\"0 0 24 24\"\n",
              "       width=\"24px\">\n",
              "    <path d=\"M0 0h24v24H0V0z\" fill=\"none\"/>\n",
              "    <path d=\"M18.56 5.44l.94 2.06.94-2.06 2.06-.94-2.06-.94-.94-2.06-.94 2.06-2.06.94zm-11 1L8.5 8.5l.94-2.06 2.06-.94-2.06-.94L8.5 2.5l-.94 2.06-2.06.94zm10 10l.94 2.06.94-2.06 2.06-.94-2.06-.94-.94-2.06-.94 2.06-2.06.94z\"/><path d=\"M17.41 7.96l-1.37-1.37c-.4-.4-.92-.59-1.43-.59-.52 0-1.04.2-1.43.59L10.3 9.45l-7.72 7.72c-.78.78-.78 2.05 0 2.83L4 21.41c.39.39.9.59 1.41.59.51 0 1.02-.2 1.41-.59l7.78-7.78 2.81-2.81c.8-.78.8-2.07 0-2.86zM5.41 20L4 18.59l7.72-7.72 1.47 1.35L5.41 20z\"/>\n",
              "  </svg>\n",
              "      </button>\n",
              "      \n",
              "  <style>\n",
              "    .colab-df-container {\n",
              "      display:flex;\n",
              "      flex-wrap:wrap;\n",
              "      gap: 12px;\n",
              "    }\n",
              "\n",
              "    .colab-df-convert {\n",
              "      background-color: #E8F0FE;\n",
              "      border: none;\n",
              "      border-radius: 50%;\n",
              "      cursor: pointer;\n",
              "      display: none;\n",
              "      fill: #1967D2;\n",
              "      height: 32px;\n",
              "      padding: 0 0 0 0;\n",
              "      width: 32px;\n",
              "    }\n",
              "\n",
              "    .colab-df-convert:hover {\n",
              "      background-color: #E2EBFA;\n",
              "      box-shadow: 0px 1px 2px rgba(60, 64, 67, 0.3), 0px 1px 3px 1px rgba(60, 64, 67, 0.15);\n",
              "      fill: #174EA6;\n",
              "    }\n",
              "\n",
              "    [theme=dark] .colab-df-convert {\n",
              "      background-color: #3B4455;\n",
              "      fill: #D2E3FC;\n",
              "    }\n",
              "\n",
              "    [theme=dark] .colab-df-convert:hover {\n",
              "      background-color: #434B5C;\n",
              "      box-shadow: 0px 1px 3px 1px rgba(0, 0, 0, 0.15);\n",
              "      filter: drop-shadow(0px 1px 2px rgba(0, 0, 0, 0.3));\n",
              "      fill: #FFFFFF;\n",
              "    }\n",
              "  </style>\n",
              "\n",
              "      <script>\n",
              "        const buttonEl =\n",
              "          document.querySelector('#df-30e820b2-2d6d-413d-8f3f-0cd618cf65e6 button.colab-df-convert');\n",
              "        buttonEl.style.display =\n",
              "          google.colab.kernel.accessAllowed ? 'block' : 'none';\n",
              "\n",
              "        async function convertToInteractive(key) {\n",
              "          const element = document.querySelector('#df-30e820b2-2d6d-413d-8f3f-0cd618cf65e6');\n",
              "          const dataTable =\n",
              "            await google.colab.kernel.invokeFunction('convertToInteractive',\n",
              "                                                     [key], {});\n",
              "          if (!dataTable) return;\n",
              "\n",
              "          const docLinkHtml = 'Like what you see? Visit the ' +\n",
              "            '<a target=\"_blank\" href=https://colab.research.google.com/notebooks/data_table.ipynb>data table notebook</a>'\n",
              "            + ' to learn more about interactive tables.';\n",
              "          element.innerHTML = '';\n",
              "          dataTable['output_type'] = 'display_data';\n",
              "          await google.colab.output.renderOutput(dataTable, element);\n",
              "          const docLink = document.createElement('div');\n",
              "          docLink.innerHTML = docLinkHtml;\n",
              "          element.appendChild(docLink);\n",
              "        }\n",
              "      </script>\n",
              "    </div>\n",
              "  </div>\n",
              "  "
            ]
          },
          "metadata": {},
          "execution_count": 20
        }
      ],
      "source": [
        "data[data['latitude']< 37.48]"
      ]
    },
    {
      "cell_type": "markdown",
      "metadata": {
        "id": "T7Pf01s8aYLz"
      },
      "source": [
        "## Using graphs to visualise data"
      ]
    },
    {
      "cell_type": "code",
      "execution_count": null,
      "metadata": {
        "id": "bVtf77W2aYLz",
        "outputId": "879debb2-b784-4fd3-a54e-6b9528b02c2e",
        "colab": {
          "base_uri": "https://localhost:8080/",
          "height": 1000
        }
      },
      "outputs": [
        {
          "output_type": "execute_result",
          "data": {
            "text/plain": [
              "array([[<matplotlib.axes._subplots.AxesSubplot object at 0x7f3b95099110>,\n",
              "        <matplotlib.axes._subplots.AxesSubplot object at 0x7f3b9506e7d0>,\n",
              "        <matplotlib.axes._subplots.AxesSubplot object at 0x7f3b95027dd0>],\n",
              "       [<matplotlib.axes._subplots.AxesSubplot object at 0x7f3b94feb410>,\n",
              "        <matplotlib.axes._subplots.AxesSubplot object at 0x7f3b94fa1a10>,\n",
              "        <matplotlib.axes._subplots.AxesSubplot object at 0x7f3b94f57fd0>],\n",
              "       [<matplotlib.axes._subplots.AxesSubplot object at 0x7f3b94f1a6d0>,\n",
              "        <matplotlib.axes._subplots.AxesSubplot object at 0x7f3b94ed1c10>,\n",
              "        <matplotlib.axes._subplots.AxesSubplot object at 0x7f3b94ed1c50>]],\n",
              "      dtype=object)"
            ]
          },
          "metadata": {},
          "execution_count": 21
        },
        {
          "output_type": "display_data",
          "data": {
            "text/plain": [
              "<Figure size 1440x1080 with 9 Axes>"
            ],
            "image/png": "[encoded data removed]"
          },
          "metadata": {
            "needs_background": "light"
          }
        }
      ],
      "source": [
        "data.hist(bins=50, figsize=(20,15))"
      ]
    },
    {
      "cell_type": "markdown",
      "metadata": {
        "id": "npTH7FNMaYLz"
      },
      "source": [
        "## Dealing with missing data\n",
        "We have some missing data ! notice the NaN values (Not a Number)"
      ]
    },
    {
      "cell_type": "code",
      "execution_count": null,
      "metadata": {
        "id": "UabW8l_paYLz",
        "outputId": "e8f87397-579b-469a-b3b7-18517f91333c",
        "colab": {
          "base_uri": "https://localhost:8080/"
        }
      },
      "outputs": [
        {
          "output_type": "execute_result",
          "data": {
            "text/plain": [
              "longitude               0\n",
              "latitude                0\n",
              "housing_median_age      0\n",
              "total_rooms             0\n",
              "total_bedrooms        207\n",
              "population              0\n",
              "households              0\n",
              "median_income           0\n",
              "median_house_value      0\n",
              "ocean_proximity         0\n",
              "dtype: int64"
            ]
          },
          "metadata": {},
          "execution_count": 22
        }
      ],
      "source": [
        "data.isna().sum()"
      ]
    },
    {
      "cell_type": "markdown",
      "metadata": {
        "id": "25hfwJ4NaYL0"
      },
      "source": [
        "To visualise the columns with NAs, we can use a filtering method of pandas.\n",
        "\n",
        "Note that there are a few elements of this\n",
        "* "
      ]
    },
    {
      "cell_type": "code",
      "execution_count": null,
      "metadata": {
        "id": "r2ILrqnzaYL0",
        "outputId": "c2613aa7-1f78-48bc-dd40-1cf9e1d4b135",
        "colab": {
          "base_uri": "https://localhost:8080/",
          "height": 488
        }
      },
      "outputs": [
        {
          "output_type": "execute_result",
          "data": {
            "text/plain": [
              "       longitude  latitude  housing_median_age  total_rooms  total_bedrooms  \\\n",
              "290      -122.16     37.77                47.0       1256.0             NaN   \n",
              "341      -122.17     37.75                38.0        992.0             NaN   \n",
              "538      -122.28     37.78                29.0       5154.0             NaN   \n",
              "563      -122.24     37.75                45.0        891.0             NaN   \n",
              "696      -122.10     37.69                41.0        746.0             NaN   \n",
              "...          ...       ...                 ...          ...             ...   \n",
              "20267    -119.19     34.20                18.0       3620.0             NaN   \n",
              "20268    -119.18     34.19                19.0       2393.0             NaN   \n",
              "20372    -118.88     34.17                15.0       4260.0             NaN   \n",
              "20460    -118.75     34.29                17.0       5512.0             NaN   \n",
              "20484    -118.72     34.28                17.0       3051.0             NaN   \n",
              "\n",
              "       population  households  median_income  median_house_value  \\\n",
              "290         570.0       218.0         4.3750            161900.0   \n",
              "341         732.0       259.0         1.6196             85100.0   \n",
              "538        3741.0      1273.0         2.5762            173400.0   \n",
              "563         384.0       146.0         4.9489            247100.0   \n",
              "696         387.0       161.0         3.9063            178400.0   \n",
              "...           ...         ...            ...                 ...   \n",
              "20267      3171.0       779.0         3.3409            220500.0   \n",
              "20268      1938.0       762.0         1.6953            167400.0   \n",
              "20372      1701.0       669.0         5.1033            410700.0   \n",
              "20460      2734.0       814.0         6.6073            258100.0   \n",
              "20484      1705.0       495.0         5.7376            218600.0   \n",
              "\n",
              "      ocean_proximity  \n",
              "290          NEAR BAY  \n",
              "341          NEAR BAY  \n",
              "538          NEAR BAY  \n",
              "563          NEAR BAY  \n",
              "696          NEAR BAY  \n",
              "...               ...  \n",
              "20267      NEAR OCEAN  \n",
              "20268      NEAR OCEAN  \n",
              "20372       <1H OCEAN  \n",
              "20460       <1H OCEAN  \n",
              "20484       <1H OCEAN  \n",
              "\n",
              "[207 rows x 10 columns]"
            ],
            "text/html": [
              "\n",
              "  <div id=\"df-3725ebe9-a222-48ab-9230-88c2332f938f\">\n",
              "    <div class=\"colab-df-container\">\n",
              "      <div>\n",
              "<style scoped>\n",
              "    .dataframe tbody tr th:only-of-type {\n",
              "        vertical-align: middle;\n",
              "    }\n",
              "\n",
              "    .dataframe tbody tr th {\n",
              "        vertical-align: top;\n",
              "    }\n",
              "\n",
              "    .dataframe thead th {\n",
              "        text-align: right;\n",
              "    }\n",
              "</style>\n",
              "<table border=\"1\" class=\"dataframe\">\n",
              "  <thead>\n",
              "    <tr style=\"text-align: right;\">\n",
              "      <th></th>\n",
              "      <th>longitude</th>\n",
              "      <th>latitude</th>\n",
              "      <th>housing_median_age</th>\n",
              "      <th>total_rooms</th>\n",
              "      <th>total_bedrooms</th>\n",
              "      <th>population</th>\n",
              "      <th>households</th>\n",
              "      <th>median_income</th>\n",
              "      <th>median_house_value</th>\n",
              "      <th>ocean_proximity</th>\n",
              "    </tr>\n",
              "  </thead>\n",
              "  <tbody>\n",
              "    <tr>\n",
              "      <th>290</th>\n",
              "      <td>-122.16</td>\n",
              "      <td>37.77</td>\n",
              "      <td>47.0</td>\n",
              "      <td>1256.0</td>\n",
              "      <td>NaN</td>\n",
              "      <td>570.0</td>\n",
              "      <td>218.0</td>\n",
              "      <td>4.3750</td>\n",
              "      <td>161900.0</td>\n",
              "      <td>NEAR BAY</td>\n",
              "    </tr>\n",
              "    <tr>\n",
              "      <th>341</th>\n",
              "      <td>-122.17</td>\n",
              "      <td>37.75</td>\n",
              "      <td>38.0</td>\n",
              "      <td>992.0</td>\n",
              "      <td>NaN</td>\n",
              "      <td>732.0</td>\n",
              "      <td>259.0</td>\n",
              "      <td>1.6196</td>\n",
              "      <td>85100.0</td>\n",
              "      <td>NEAR BAY</td>\n",
              "    </tr>\n",
              "    <tr>\n",
              "      <th>538</th>\n",
              "      <td>-122.28</td>\n",
              "      <td>37.78</td>\n",
              "      <td>29.0</td>\n",
              "      <td>5154.0</td>\n",
              "      <td>NaN</td>\n",
              "      <td>3741.0</td>\n",
              "      <td>1273.0</td>\n",
              "      <td>2.5762</td>\n",
              "      <td>173400.0</td>\n",
              "      <td>NEAR BAY</td>\n",
              "    </tr>\n",
              "    <tr>\n",
              "      <th>563</th>\n",
              "      <td>-122.24</td>\n",
              "      <td>37.75</td>\n",
              "      <td>45.0</td>\n",
              "      <td>891.0</td>\n",
              "      <td>NaN</td>\n",
              "      <td>384.0</td>\n",
              "      <td>146.0</td>\n",
              "      <td>4.9489</td>\n",
              "      <td>247100.0</td>\n",
              "      <td>NEAR BAY</td>\n",
              "    </tr>\n",
              "    <tr>\n",
              "      <th>696</th>\n",
              "      <td>-122.10</td>\n",
              "      <td>37.69</td>\n",
              "      <td>41.0</td>\n",
              "      <td>746.0</td>\n",
              "      <td>NaN</td>\n",
              "      <td>387.0</td>\n",
              "      <td>161.0</td>\n",
              "      <td>3.9063</td>\n",
              "      <td>178400.0</td>\n",
              "      <td>NEAR BAY</td>\n",
              "    </tr>\n",
              "    <tr>\n",
              "      <th>...</th>\n",
              "      <td>...</td>\n",
              "      <td>...</td>\n",
              "      <td>...</td>\n",
              "      <td>...</td>\n",
              "      <td>...</td>\n",
              "      <td>...</td>\n",
              "      <td>...</td>\n",
              "      <td>...</td>\n",
              "      <td>...</td>\n",
              "      <td>...</td>\n",
              "    </tr>\n",
              "    <tr>\n",
              "      <th>20267</th>\n",
              "      <td>-119.19</td>\n",
              "      <td>34.20</td>\n",
              "      <td>18.0</td>\n",
              "      <td>3620.0</td>\n",
              "      <td>NaN</td>\n",
              "      <td>3171.0</td>\n",
              "      <td>779.0</td>\n",
              "      <td>3.3409</td>\n",
              "      <td>220500.0</td>\n",
              "      <td>NEAR OCEAN</td>\n",
              "    </tr>\n",
              "    <tr>\n",
              "      <th>20268</th>\n",
              "      <td>-119.18</td>\n",
              "      <td>34.19</td>\n",
              "      <td>19.0</td>\n",
              "      <td>2393.0</td>\n",
              "      <td>NaN</td>\n",
              "      <td>1938.0</td>\n",
              "      <td>762.0</td>\n",
              "      <td>1.6953</td>\n",
              "      <td>167400.0</td>\n",
              "      <td>NEAR OCEAN</td>\n",
              "    </tr>\n",
              "    <tr>\n",
              "      <th>20372</th>\n",
              "      <td>-118.88</td>\n",
              "      <td>34.17</td>\n",
              "      <td>15.0</td>\n",
              "      <td>4260.0</td>\n",
              "      <td>NaN</td>\n",
              "      <td>1701.0</td>\n",
              "      <td>669.0</td>\n",
              "      <td>5.1033</td>\n",
              "      <td>410700.0</td>\n",
              "      <td>&lt;1H OCEAN</td>\n",
              "    </tr>\n",
              "    <tr>\n",
              "      <th>20460</th>\n",
              "      <td>-118.75</td>\n",
              "      <td>34.29</td>\n",
              "      <td>17.0</td>\n",
              "      <td>5512.0</td>\n",
              "      <td>NaN</td>\n",
              "      <td>2734.0</td>\n",
              "      <td>814.0</td>\n",
              "      <td>6.6073</td>\n",
              "      <td>258100.0</td>\n",
              "      <td>&lt;1H OCEAN</td>\n",
              "    </tr>\n",
              "    <tr>\n",
              "      <th>20484</th>\n",
              "      <td>-118.72</td>\n",
              "      <td>34.28</td>\n",
              "      <td>17.0</td>\n",
              "      <td>3051.0</td>\n",
              "      <td>NaN</td>\n",
              "      <td>1705.0</td>\n",
              "      <td>495.0</td>\n",
              "      <td>5.7376</td>\n",
              "      <td>218600.0</td>\n",
              "      <td>&lt;1H OCEAN</td>\n",
              "    </tr>\n",
              "  </tbody>\n",
              "</table>\n",
              "<p>207 rows × 10 columns</p>\n",
              "</div>\n",
              "      <button class=\"colab-df-convert\" onclick=\"convertToInteractive('df-3725ebe9-a222-48ab-9230-88c2332f938f')\"\n",
              "              title=\"Convert this dataframe to an interactive table.\"\n",
              "              style=\"display:none;\">\n",
              "        \n",
              "  <svg xmlns=\"http://www.w3.org/2000/svg\" height=\"24px\"viewBox=\"0 0 24 24\"\n",
              "       width=\"24px\">\n",
              "    <path d=\"M0 0h24v24H0V0z\" fill=\"none\"/>\n",
              "    <path d=\"M18.56 5.44l.94 2.06.94-2.06 2.06-.94-2.06-.94-.94-2.06-.94 2.06-2.06.94zm-11 1L8.5 8.5l.94-2.06 2.06-.94-2.06-.94L8.5 2.5l-.94 2.06-2.06.94zm10 10l.94 2.06.94-2.06 2.06-.94-2.06-.94-.94-2.06-.94 2.06-2.06.94z\"/><path d=\"M17.41 7.96l-1.37-1.37c-.4-.4-.92-.59-1.43-.59-.52 0-1.04.2-1.43.59L10.3 9.45l-7.72 7.72c-.78.78-.78 2.05 0 2.83L4 21.41c.39.39.9.59 1.41.59.51 0 1.02-.2 1.41-.59l7.78-7.78 2.81-2.81c.8-.78.8-2.07 0-2.86zM5.41 20L4 18.59l7.72-7.72 1.47 1.35L5.41 20z\"/>\n",
              "  </svg>\n",
              "      </button>\n",
              "      \n",
              "  <style>\n",
              "    .colab-df-container {\n",
              "      display:flex;\n",
              "      flex-wrap:wrap;\n",
              "      gap: 12px;\n",
              "    }\n",
              "\n",
              "    .colab-df-convert {\n",
              "      background-color: #E8F0FE;\n",
              "      border: none;\n",
              "      border-radius: 50%;\n",
              "      cursor: pointer;\n",
              "      display: none;\n",
              "      fill: #1967D2;\n",
              "      height: 32px;\n",
              "      padding: 0 0 0 0;\n",
              "      width: 32px;\n",
              "    }\n",
              "\n",
              "    .colab-df-convert:hover {\n",
              "      background-color: #E2EBFA;\n",
              "      box-shadow: 0px 1px 2px rgba(60, 64, 67, 0.3), 0px 1px 3px 1px rgba(60, 64, 67, 0.15);\n",
              "      fill: #174EA6;\n",
              "    }\n",
              "\n",
              "    [theme=dark] .colab-df-convert {\n",
              "      background-color: #3B4455;\n",
              "      fill: #D2E3FC;\n",
              "    }\n",
              "\n",
              "    [theme=dark] .colab-df-convert:hover {\n",
              "      background-color: #434B5C;\n",
              "      box-shadow: 0px 1px 3px 1px rgba(0, 0, 0, 0.15);\n",
              "      filter: drop-shadow(0px 1px 2px rgba(0, 0, 0, 0.3));\n",
              "      fill: #FFFFFF;\n",
              "    }\n",
              "  </style>\n",
              "\n",
              "      <script>\n",
              "        const buttonEl =\n",
              "          document.querySelector('#df-3725ebe9-a222-48ab-9230-88c2332f938f button.colab-df-convert');\n",
              "        buttonEl.style.display =\n",
              "          google.colab.kernel.accessAllowed ? 'block' : 'none';\n",
              "\n",
              "        async function convertToInteractive(key) {\n",
              "          const element = document.querySelector('#df-3725ebe9-a222-48ab-9230-88c2332f938f');\n",
              "          const dataTable =\n",
              "            await google.colab.kernel.invokeFunction('convertToInteractive',\n",
              "                                                     [key], {});\n",
              "          if (!dataTable) return;\n",
              "\n",
              "          const docLinkHtml = 'Like what you see? Visit the ' +\n",
              "            '<a target=\"_blank\" href=https://colab.research.google.com/notebooks/data_table.ipynb>data table notebook</a>'\n",
              "            + ' to learn more about interactive tables.';\n",
              "          element.innerHTML = '';\n",
              "          dataTable['output_type'] = 'display_data';\n",
              "          await google.colab.output.renderOutput(dataTable, element);\n",
              "          const docLink = document.createElement('div');\n",
              "          docLink.innerHTML = docLinkHtml;\n",
              "          element.appendChild(docLink);\n",
              "        }\n",
              "      </script>\n",
              "    </div>\n",
              "  </div>\n",
              "  "
            ]
          },
          "metadata": {},
          "execution_count": 23
        }
      ],
      "source": [
        "data[data.isna().any(axis=1)]"
      ]
    },
    {
      "cell_type": "code",
      "execution_count": null,
      "metadata": {
        "id": "9NPni_yXaYL0",
        "outputId": "7a77013a-6298-4271-dc4a-2878c74ef4db",
        "colab": {
          "base_uri": "https://localhost:8080/"
        }
      },
      "outputs": [
        {
          "output_type": "execute_result",
          "data": {
            "text/plain": [
              "0        False\n",
              "1        False\n",
              "2        False\n",
              "3        False\n",
              "4        False\n",
              "         ...  \n",
              "20635    False\n",
              "20636    False\n",
              "20637    False\n",
              "20638    False\n",
              "20639    False\n",
              "Length: 20640, dtype: bool"
            ]
          },
          "metadata": {},
          "execution_count": 24
        }
      ],
      "source": [
        "data.isna().any(axis=1)"
      ]
    },
    {
      "cell_type": "markdown",
      "metadata": {
        "id": "s3BHt6tZaYL0"
      },
      "source": [
        "One way to get rid of the empty rows would be to delete them."
      ]
    },
    {
      "cell_type": "code",
      "execution_count": null,
      "metadata": {
        "id": "lluXJ_YwaYL0",
        "outputId": "51949dda-9eb0-448d-97a2-f325c0c3d1b0",
        "colab": {
          "base_uri": "https://localhost:8080/"
        }
      },
      "outputs": [
        {
          "output_type": "execute_result",
          "data": {
            "text/plain": [
              "20433"
            ]
          },
          "metadata": {},
          "execution_count": 25
        }
      ],
      "source": [
        "data = data.dropna()\n",
        "len(data)"
      ]
    },
    {
      "cell_type": "markdown",
      "metadata": {
        "id": "v1KNoZY7aYL1"
      },
      "source": [
        "# 2. Scikit-learn\n",
        "\n",
        "<div>\n",
        "<img src=\"https://upload.wikimedia.org/wikipedia/commons/thumb/0/05/Scikit_learn_logo_small.svg/260px-Scikit_learn_logo_small.svg.png?20180808062052\" width=\"200\"/>\n",
        "</div>\n",
        "\n",
        "Scikit-learn is an open source machine learning library that \n",
        "* supports supervised and unsupervised learning. \n",
        "\n",
        "It also provides various tools for \n",
        "* model fitting, \n",
        "* data preprocessing, \n",
        "* model selection, \n",
        "* model evaluation, \n",
        "* and many other utilities.\n",
        "\n",
        "We cannot go through the entire library's functionality, instead we are going to highlight it using a project."
      ]
    },
    {
      "cell_type": "code",
      "execution_count": null,
      "metadata": {
        "id": "YX9IJfLnaYL1"
      },
      "outputs": [],
      "source": [
        "from sklearn.model_selection import train_test_split\n",
        "train_set, test_set = train_test_split(data, test_size=0.2, random_state=42)"
      ]
    },
    {
      "cell_type": "code",
      "execution_count": null,
      "metadata": {
        "id": "GQ49zgEoaYL1",
        "outputId": "217288d0-fa73-4125-e5ae-5911247d9d4b",
        "colab": {
          "base_uri": "https://localhost:8080/"
        }
      },
      "outputs": [
        {
          "output_type": "execute_result",
          "data": {
            "text/plain": [
              "(16346, 4087)"
            ]
          },
          "metadata": {},
          "execution_count": 27
        }
      ],
      "source": [
        "len(train_set), len(test_set)"
      ]
    },
    {
      "cell_type": "markdown",
      "metadata": {
        "id": "hN5OUkfyaYL1"
      },
      "source": [
        "There are several methods of getting rid of NAs\n",
        "* Deleting them (like what we have done above)\n",
        "* Get rid of the attribute entirely (not too smart in this case.)\n",
        "* Set some values, whether it is the median, mean or something more sophisticated, which is called imputing."
      ]
    },
    {
      "cell_type": "markdown",
      "metadata": {
        "id": "p3Dhg-KoaYL1"
      },
      "source": [
        "Some models can only read in vectors i.e. numbers. This is why we need to encode categorical attributes."
      ]
    },
    {
      "cell_type": "code",
      "execution_count": null,
      "metadata": {
        "id": "8w0sb9c6aYL1"
      },
      "outputs": [],
      "source": [
        "housing_num = data.columns.drop(['ocean_proximity', 'median_house_value'])\n",
        "num_attribs = list(housing_num)\n",
        "cat_attribs = ['ocean_proximity']"
      ]
    },
    {
      "cell_type": "markdown",
      "metadata": {
        "id": "pQf5RY02aYL2"
      },
      "source": [
        "We are putting in the SimpleImputer as a demonstration. The OneHotEncoder basically convert the categories into a vector.\n",
        "<div>\n",
        "<img src=\"https://miro.medium.com/max/1400/1*ggtP4a5YaRx6l09KQaYOnw.png\" width=\"800\"/>\n",
        "</div>\n"
      ]
    },
    {
      "cell_type": "code",
      "execution_count": null,
      "metadata": {
        "id": "HwQMzRfVaYL2"
      },
      "outputs": [],
      "source": [
        "from sklearn.impute import SimpleImputer\n",
        "from sklearn.preprocessing import OneHotEncoder"
      ]
    },
    {
      "cell_type": "markdown",
      "metadata": {
        "id": "KfBIWLesaYL2"
      },
      "source": [
        "We put them in like a pipeline, so that it can be applied at once to any future dataset."
      ]
    },
    {
      "cell_type": "code",
      "execution_count": null,
      "metadata": {
        "id": "dH8bnLLBaYL2"
      },
      "outputs": [],
      "source": [
        "from sklearn.pipeline import Pipeline\n",
        "from sklearn.preprocessing import StandardScaler\n",
        "\n",
        "num_pipeline = Pipeline([\n",
        "    ('imputer', SimpleImputer(strategy='median')),\n",
        "    ('std_scaler', StandardScaler())]\n",
        ")\n",
        "\n",
        "from sklearn.compose import ColumnTransformer\n",
        "num_attribs = list(housing_num)\n",
        "cat_attribs = ['ocean_proximity']\n",
        "\n",
        "full_pipeline = ColumnTransformer([\n",
        "    ('num', num_pipeline, num_attribs), \n",
        "    ('cat', OneHotEncoder(), cat_attribs)])"
      ]
    },
    {
      "cell_type": "code",
      "execution_count": null,
      "metadata": {
        "id": "n35AOghVaYL2"
      },
      "outputs": [],
      "source": [
        "train = train_set.drop('median_house_value', axis=1)\n",
        "housing_labels = train_set['median_house_value'].copy()"
      ]
    },
    {
      "cell_type": "code",
      "execution_count": null,
      "metadata": {
        "id": "plakJOoGaYL2"
      },
      "outputs": [],
      "source": [
        "housing_prepared = full_pipeline.fit_transform(train)"
      ]
    },
    {
      "cell_type": "markdown",
      "metadata": {
        "id": "d9lBIbAoaYL2"
      },
      "source": [
        "The prepared dataset is now just an array, ready to be used for Machine Learning."
      ]
    },
    {
      "cell_type": "code",
      "execution_count": null,
      "metadata": {
        "id": "CcYrDIz1aYL3",
        "outputId": "652b694b-25a3-4a93-d7b5-b3f7acc23686",
        "colab": {
          "base_uri": "https://localhost:8080/"
        }
      },
      "outputs": [
        {
          "output_type": "execute_result",
          "data": {
            "text/plain": [
              "array([[-1.10651441,  0.78620804, -1.16206244, ...,  0.        ,\n",
              "         0.        ,  0.        ],\n",
              "       [-0.02467137,  0.46787317,  0.34865716, ...,  0.        ,\n",
              "         0.        ,  0.        ],\n",
              "       [ 0.75804456, -0.71183841, -0.2874353 , ...,  0.        ,\n",
              "         0.        ,  0.        ],\n",
              "       ...,\n",
              "       [ 0.5785683 , -0.76333376,  1.06426118, ...,  0.        ,\n",
              "         0.        ,  0.        ],\n",
              "       [-1.22616525,  0.90324292, -1.32108555, ...,  0.        ,\n",
              "         1.        ,  0.        ],\n",
              "       [-1.42059787,  0.97814524,  1.85937675, ...,  0.        ,\n",
              "         1.        ,  0.        ]])"
            ]
          },
          "metadata": {},
          "execution_count": 33
        }
      ],
      "source": [
        "housing_prepared"
      ]
    },
    {
      "cell_type": "markdown",
      "metadata": {
        "id": "k5VV7HTqaYL3"
      },
      "source": [
        "# 3. Machine Learning, Model building and evaluation\n",
        "\n",
        "We implement \n",
        "\n",
        "Training a model\n",
        "* Linear regression\n",
        "* Decision tree regressor"
      ]
    },
    {
      "cell_type": "code",
      "execution_count": null,
      "metadata": {
        "id": "3Rl1MoMgaYL3",
        "outputId": "4590c7e7-6d98-4747-f718-f5579fb65821",
        "colab": {
          "base_uri": "https://localhost:8080/"
        }
      },
      "outputs": [
        {
          "output_type": "execute_result",
          "data": {
            "text/plain": [
              "LinearRegression()"
            ]
          },
          "metadata": {},
          "execution_count": 34
        }
      ],
      "source": [
        "from sklearn.linear_model import LinearRegression\n",
        "\n",
        "lin_reg = LinearRegression()\n",
        "lin_reg.fit(housing_prepared, housing_labels)"
      ]
    },
    {
      "cell_type": "code",
      "execution_count": null,
      "metadata": {
        "id": "jGwk0oySaYL3",
        "outputId": "7085fae5-91fc-4701-87f9-9350c4a70102",
        "colab": {
          "base_uri": "https://localhost:8080/"
        }
      },
      "outputs": [
        {
          "output_type": "execute_result",
          "data": {
            "text/plain": [
              "DecisionTreeRegressor()"
            ]
          },
          "metadata": {},
          "execution_count": 35
        }
      ],
      "source": [
        "from sklearn.tree import DecisionTreeRegressor\n",
        "tree = DecisionTreeRegressor()\n",
        "tree.fit(housing_prepared, housing_labels)"
      ]
    },
    {
      "cell_type": "code",
      "execution_count": null,
      "metadata": {
        "id": "58kWugURaYL3",
        "outputId": "b43a5720-8ab5-44b1-c0df-19c043fef5d3",
        "colab": {
          "base_uri": "https://localhost:8080/"
        }
      },
      "outputs": [
        {
          "output_type": "execute_result",
          "data": {
            "text/plain": [
              "(array([408839.71488446, 415801.79521574, 378272.60295515, 320548.64112634,\n",
              "        253845.95589662]), [227600.0, 110400.0, 248100.0, 305600.0, 214600.0])"
            ]
          },
          "metadata": {},
          "execution_count": 36
        }
      ],
      "source": [
        "some_data = data.iloc[:5]\n",
        "some_labels = housing_labels.iloc[:5]\n",
        "some_data_prepared = full_pipeline.transform(some_data)\n",
        "lin_reg.predict(some_data_prepared), list(some_labels)"
      ]
    },
    {
      "cell_type": "code",
      "execution_count": null,
      "metadata": {
        "id": "dmpq68FUaYL4",
        "outputId": "d6f5a4ac-ae93-40cf-db87-64cf9a6ad287",
        "colab": {
          "base_uri": "https://localhost:8080/"
        }
      },
      "outputs": [
        {
          "output_type": "execute_result",
          "data": {
            "text/plain": [
              "(array([500001., 358500., 352100., 326400., 342200.]),\n",
              " [227600.0, 110400.0, 248100.0, 305600.0, 214600.0])"
            ]
          },
          "metadata": {},
          "execution_count": 37
        }
      ],
      "source": [
        "tree.predict(some_data_prepared), list(some_labels)"
      ]
    },
    {
      "cell_type": "markdown",
      "metadata": {
        "id": "CF5pyD3xaYL4"
      },
      "source": [
        "A more complete way to perform this comparison would be to use a metric."
      ]
    },
    {
      "cell_type": "code",
      "execution_count": null,
      "metadata": {
        "id": "P3NCeAVmaYL4",
        "outputId": "b1bb8969-0afd-40a9-abfe-76a67f9a8d94",
        "colab": {
          "base_uri": "https://localhost:8080/"
        }
      },
      "outputs": [
        {
          "output_type": "execute_result",
          "data": {
            "text/plain": [
              "68487.30666948423"
            ]
          },
          "metadata": {},
          "execution_count": 39
        }
      ],
      "source": [
        "from sklearn.metrics import mean_squared_error\n",
        "housing_predictions = lin_reg.predict(housing_prepared)\n",
        "lin_mse = mean_squared_error(housing_labels, housing_predictions)\n",
        "lin_rmse = np.sqrt(lin_mse)\n",
        "lin_rmse"
      ]
    },
    {
      "cell_type": "code",
      "execution_count": null,
      "metadata": {
        "id": "92NGkR3VaYL5",
        "outputId": "5766e87b-b258-4ea0-a1fd-ef62006d8135",
        "colab": {
          "base_uri": "https://localhost:8080/"
        }
      },
      "outputs": [
        {
          "output_type": "execute_result",
          "data": {
            "text/plain": [
              "0.0"
            ]
          },
          "metadata": {},
          "execution_count": 40
        }
      ],
      "source": [
        "housing_predictions = tree.predict(housing_prepared)\n",
        "lin_mse = mean_squared_error(housing_labels, housing_predictions)\n",
        "lin_rmse = np.sqrt(lin_mse)\n",
        "lin_rmse"
      ]
    },
    {
      "cell_type": "code",
      "execution_count": null,
      "metadata": {
        "id": "Tam7J2hMaYL5",
        "outputId": "37719f7c-ba50-44b0-cc2e-ff5ca7452aba",
        "colab": {
          "base_uri": "https://localhost:8080/"
        }
      },
      "outputs": [
        {
          "output_type": "stream",
          "name": "stdout",
          "text": [
            "Scores: [66979.87212778 64494.31726084 70935.09762388 72059.17944339\n",
            " 67113.30320673 66803.04051238 68332.02208721 72101.88809252\n",
            " 72717.1125851  70538.77806261]\n",
            "Mean: 69207.46110024242\n",
            "Standard deviation: 2677.569757682631\n"
          ]
        }
      ],
      "source": [
        "from sklearn.model_selection import cross_val_score\n",
        "\n",
        "def display_scores(scores):\n",
        "    print('Scores:', scores)\n",
        "    print('Mean:', scores.mean())\n",
        "    print('Standard deviation:', scores.std())\n",
        "\n",
        "scores = cross_val_score(tree, housing_prepared, housing_labels, scoring='neg_mean_squared_error', cv=10)\n",
        "tree_rmse_scores = np.sqrt(-scores)\n",
        "\n",
        "display_scores(tree_rmse_scores)"
      ]
    },
    {
      "cell_type": "code",
      "execution_count": null,
      "metadata": {
        "id": "XX1CO9uEaYL5",
        "outputId": "4eb502df-1f9a-47ea-832d-fb898b6f2a8b",
        "colab": {
          "base_uri": "https://localhost:8080/"
        }
      },
      "outputs": [
        {
          "output_type": "stream",
          "name": "stdout",
          "text": [
            "Scores: [66708.48442919 64086.95295646 69984.08664322 71875.2895081\n",
            " 66598.72266852 67194.66859894 68791.35754054 71655.64788951\n",
            " 72961.60399116 70864.23972472]\n",
            "Mean: 69072.10539503602\n",
            "Standard deviation: 2717.7904053364095\n"
          ]
        }
      ],
      "source": [
        "lin_scores = cross_val_score(tree, housing_prepared, housing_labels, scoring='neg_mean_squared_error', cv=10)\n",
        "lin_rmse_scores = np.sqrt(-lin_scores)\n",
        "display_scores(lin_rmse_scores)"
      ]
    },
    {
      "cell_type": "markdown",
      "metadata": {
        "id": "5DMsy1IBaYL6"
      },
      "source": [
        "Observe how the syntax for scikit-learn is quite similar, as we can see from the implementing the two models. \n",
        "\n",
        "**Q**: Try seeing if you can implement a Random Forest Regressor, using similar syntax!"
      ]
    },
    {
      "cell_type": "markdown",
      "metadata": {
        "id": "PWcsDsIlaYL6"
      },
      "source": [
        "### Hyperparameter Tuning"
      ]
    },
    {
      "cell_type": "code",
      "execution_count": null,
      "metadata": {
        "id": "_BRWhLWOaYL6",
        "outputId": "f855fc41-ea78-4e2c-8b7e-a0b54f5a6d29",
        "colab": {
          "base_uri": "https://localhost:8080/"
        }
      },
      "outputs": [
        {
          "output_type": "execute_result",
          "data": {
            "text/plain": [
              "{'max_features': 8}"
            ]
          },
          "metadata": {},
          "execution_count": 43
        }
      ],
      "source": [
        "from sklearn.model_selection import GridSearchCV\n",
        "param_grid = [\n",
        "    {'max_features': [2,4,6,8]}\n",
        "]\n",
        "\n",
        "grid_search = GridSearchCV(tree, param_grid, cv=5, scoring = 'neg_mean_squared_error', return_train_score=True)\n",
        "grid_search.fit(housing_prepared, housing_labels)\n",
        "grid_search.best_params_"
      ]
    },
    {
      "cell_type": "markdown",
      "metadata": {
        "id": "2kyxAuNJaYL7"
      },
      "source": [
        "### Feature importances"
      ]
    },
    {
      "cell_type": "code",
      "execution_count": null,
      "metadata": {
        "id": "wwAS-PyGaYL7",
        "outputId": "9ebec23b-e20c-4348-ca32-62f3020bcc3d",
        "colab": {
          "base_uri": "https://localhost:8080/"
        }
      },
      "outputs": [
        {
          "output_type": "execute_result",
          "data": {
            "text/plain": [
              "[(0.3648265009476569, 'median_income'),\n",
              " (0.10012472365276141, 'longitude'),\n",
              " (0.07864545997369836, 'latitude'),\n",
              " (0.05280432662136186, 'total_rooms'),\n",
              " (0.051778065894746615, 'housing_median_age'),\n",
              " (0.05123780660026057, 'population'),\n",
              " (0.034501186320049365, 'total_bedrooms'),\n",
              " (0.0229736448153299, 'households'),\n",
              " (0.0028221248816026052, 'ocean_proximity')]"
            ]
          },
          "metadata": {},
          "execution_count": 44
        }
      ],
      "source": [
        "feature_importances = grid_search.best_estimator_.feature_importances_\n",
        "attributes = num_attribs + cat_attribs\n",
        "sorted(zip(feature_importances,attributes ), reverse=True)"
      ]
    },
    {
      "cell_type": "markdown",
      "metadata": {
        "id": "-yyj81hvaYL7"
      },
      "source": [
        "### Evaluating on test set"
      ]
    },
    {
      "cell_type": "code",
      "execution_count": null,
      "metadata": {
        "id": "7Rjubqj6aYL7",
        "outputId": "7bc2e7fd-59ae-4c81-d75f-0da83f6ebddb",
        "colab": {
          "base_uri": "https://localhost:8080/"
        }
      },
      "outputs": [
        {
          "output_type": "execute_result",
          "data": {
            "text/plain": [
              "72970.53397247943"
            ]
          },
          "metadata": {},
          "execution_count": 45
        }
      ],
      "source": [
        "final_model = grid_search.best_estimator_\n",
        "\n",
        "X_test = test_set.drop('median_house_value', axis=1)\n",
        "y_test = test_set['median_house_value'].copy()\n",
        "X_test_prepared = full_pipeline.transform(X_test)\n",
        "\n",
        "final_predictions = final_model.predict(X_test_prepared)\n",
        "final_rmse = np.sqrt(mean_squared_error(y_test, final_predictions))\n",
        "final_rmse"
      ]
    },
    {
      "cell_type": "markdown",
      "metadata": {
        "id": "Xh0ozPDiaYL7"
      },
      "source": [
        "### Saving your model"
      ]
    },
    {
      "cell_type": "code",
      "execution_count": null,
      "metadata": {
        "id": "hll0bTH3aYL8"
      },
      "outputs": [],
      "source": [
        "import joblib\n",
        "joblib.dump(final_model, \"best_model.pkl\")\n",
        "# Loading the model if it is needed later\n",
        "best_model_loaded = joblib.load(\"best_model.pkl\")"
      ]
    },
    {
      "cell_type": "markdown",
      "metadata": {
        "id": "tlLhTXvaaYL8"
      },
      "source": [
        "# What next?\n",
        "To deploy the project online\n",
        "\n",
        "You would need something to manage your machines. Real data engineers may use Kubernetes, a container orchestration tool"
      ]
    },
    {
      "cell_type": "markdown",
      "metadata": {
        "id": "fjcO1erqaYL8"
      },
      "source": [
        "![title](https://github.com/Imperial-College-Data-Science-Society/Lecture-series-2022-23/blob/main/L2/img/ml_deployment.png?raw=1)\n"
      ]
    },
    {
      "cell_type": "markdown",
      "metadata": {
        "id": "fFViawlUaYL8"
      },
      "source": [
        "This is a diagram taken from Andrew Ng's course https://www.youtube.com/watch?v=NgWujOrCZFo. As we can see, many more lines of code have to be put into place if we are to deploy our ML model into production, for a company or organisation.\n",
        "\n",
        "I've looked through some job descriptions, and I picked up some jargon of what Data Engineers do\n",
        "* Building ETL ('Extract, transform, load) Pipelines: doing data integration from different data sources (think maybe different web sources from different suppliers, physical sources) and putting it into a continuous, unified stream for others (analysts) to use\n",
        "* Deploying code to the cloud with Amazon Web Services (AWS), Google Cloud Platform (GCP) or Microsoft Azure, which are the biggest platforms.\n",
        "* For Big Data, other frameworks might need to be used due to the volume of data coming through! Some words you might hear pop up a lot include Apache Spark, Hadoop etc. These methods implement parallelism and distributed storage for example using MapReduce, because no one computer can store/ process all of the data involved. Another method for using big data is to 'stream' the data whenever it gets generated to its users, this is done with Kafka. This is known as a publish-subscribe architecture."
      ]
    },
    {
      "cell_type": "markdown",
      "metadata": {
        "id": "IHLuv4YCaYL8"
      },
      "source": [
        "# Exercises\n",
        "\n",
        "1. Do pandas exercises here: https://www.kaggle.com/learn/pandas. This will take approximately 2-4 hours, but it will increase the depth of your knowledge of Pandas, and in general dealing with data using code.\n",
        "2. Do data cleaning exercises here: https://www.kaggle.com/learn/data-cleaning. \n"
      ]
    }
  ],
  "metadata": {
    "kernelspec": {
      "display_name": "Python 3.9.7",
      "language": "python",
      "name": "python3"
    },
    "language_info": {
      "codemirror_mode": {
        "name": "ipython",
        "version": 3
      },
      "file_extension": ".py",
      "mimetype": "text/x-python",
      "name": "python",
      "nbconvert_exporter": "python",
      "pygments_lexer": "ipython3",
      "version": "3.9.10"
    },
    "orig_nbformat": 4,
    "vscode": {
      "interpreter": {
        "hash": "742081a4bf02259e09260ac0108c9e3479924a6b57724730ce8e4dfbe6339517"
      }
    },
    "colab": {
      "provenance": []
    }
  },
  "nbformat": 4,
  "nbformat_minor": 0
}